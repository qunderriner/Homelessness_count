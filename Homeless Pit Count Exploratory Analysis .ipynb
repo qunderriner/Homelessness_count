{
 "cells": [
  {
   "cell_type": "code",
   "execution_count": 7,
   "metadata": {},
   "outputs": [],
   "source": [
    "import pandas as pd\n",
    "import numpy as np\n",
    "import seaborn as sns\n",
    "import statsmodels.api as sm\n",
    "%matplotlib inline\n",
    "from matplotlib import pyplot as plt\n",
    "sns.set()"
   ]
  },
  {
   "cell_type": "code",
   "execution_count": 79,
   "metadata": {},
   "outputs": [],
   "source": [
    "df = pd.read_csv(\"minor_augmented_final_CSA_data.csv\")"
   ]
  },
  {
   "cell_type": "markdown",
   "metadata": {},
   "source": [
    "This is PIT count data for just 2017, for the 20 CSAs list below. In the following, Pit Count is the total pit count: sheltered, unsheltered, and permanently housed. "
   ]
  },
  {
   "cell_type": "code",
   "execution_count": 32,
   "metadata": {},
   "outputs": [
    {
     "data": {
      "text/plain": [
       "['Atlanta--Athens-Clarke County--Sandy Springs, GA CSA',\n",
       " 'Boston-Worcester-Providence, MA-RI-NH-CT CSA',\n",
       " 'Chicago-Naperville, IL-IN-WI CSA',\n",
       " 'Cleveland-Akron-Canton, OH CSA',\n",
       " 'Dallas-Fort Worth, TX-OK CSA',\n",
       " 'Denver-Aurora, CO CSA',\n",
       " 'Detroit-Warren-Ann Arbor, MI CSA',\n",
       " 'Fresno-Madera, CA CSA',\n",
       " 'Houston-The Woodlands, TX CSA',\n",
       " 'Los Angeles-Long Beach, CA CSA',\n",
       " 'Miami-Fort Lauderdale-Port St. Lucie, FL CSA',\n",
       " 'Minneapolis-St. Paul, MN-WI CSA',\n",
       " 'New York-Newark, NY-NJ-CT-PA CSA',\n",
       " 'Orlando-Deltona-Daytona Beach, FL CSA',\n",
       " 'Philadelphia-Reading-Camden, PA-NJ-DE-MD CSA',\n",
       " 'Portland-Vancouver-Salem, OR-WA CSA',\n",
       " 'Sacramento-Roseville, CA CSA',\n",
       " 'San Jose-San Francisco-Oakland, CA CSA',\n",
       " 'Seattle-Tacoma, WA CSA',\n",
       " 'Washington-Baltimore-Arlington, DC-MD-VA-WV-PA CSA']"
      ]
     },
     "execution_count": 32,
     "metadata": {},
     "output_type": "execute_result"
    }
   ],
   "source": [
    "df.CSA.to_list()"
   ]
  },
  {
   "cell_type": "markdown",
   "metadata": {},
   "source": [
    "For some basic analysis, using the cut function, I broke the data into two categories of \n",
    "low-homeless and high-homeless, to be able to better contrast these rudimentary groupings. Some basic summary stats for these groupings are below.  \n",
    "df[\"split\"] = pd.cut(df[\"homeless_pop_percentage\"],2, labels=[\"low-homelessness\", \"high_homelessness\"])"
   ]
  },
  {
   "cell_type": "markdown",
   "metadata": {},
   "source": [
    "One thing to note is that the high homeless grouping has a $14.7 thousand higher median household income and a $504 higher monthly rental cost. "
   ]
  },
  {
   "cell_type": "code",
   "execution_count": 82,
   "metadata": {},
   "outputs": [],
   "source": [
    "df_low_filter = df.split == 'low-homelessness'\n",
    "df_high_filter = df.split == 'high_homelessness'\n",
    "\n",
    "df_high = df[df_high_filter]\n",
    "df_low = df[df_low_filter]"
   ]
  },
  {
   "cell_type": "code",
   "execution_count": 71,
   "metadata": {},
   "outputs": [
    {
     "data": {
      "text/html": [
       "<div>\n",
       "<style scoped>\n",
       "    .dataframe tbody tr th:only-of-type {\n",
       "        vertical-align: middle;\n",
       "    }\n",
       "\n",
       "    .dataframe tbody tr th {\n",
       "        vertical-align: top;\n",
       "    }\n",
       "\n",
       "    .dataframe thead th {\n",
       "        text-align: right;\n",
       "    }\n",
       "</style>\n",
       "<table border=\"1\" class=\"dataframe\">\n",
       "  <thead>\n",
       "    <tr style=\"text-align: right;\">\n",
       "      <th></th>\n",
       "      <th>Total PIT</th>\n",
       "      <th>homeless_pop_percentage</th>\n",
       "      <th>median_household_income 2017</th>\n",
       "      <th>housing_cost 2017</th>\n",
       "      <th>rental_cost 2017</th>\n",
       "      <th>rent_to_income_ratio 2017</th>\n",
       "    </tr>\n",
       "  </thead>\n",
       "  <tbody>\n",
       "    <tr>\n",
       "      <th>count</th>\n",
       "      <td>10.000000</td>\n",
       "      <td>10.000000</td>\n",
       "      <td>10.000000</td>\n",
       "      <td>10.000000</td>\n",
       "      <td>10.000000</td>\n",
       "      <td>10.000000</td>\n",
       "    </tr>\n",
       "    <tr>\n",
       "      <th>mean</th>\n",
       "      <td>12822.500000</td>\n",
       "      <td>0.002418</td>\n",
       "      <td>62004.550000</td>\n",
       "      <td>216957.998000</td>\n",
       "      <td>1386.918000</td>\n",
       "      <td>0.295000</td>\n",
       "    </tr>\n",
       "    <tr>\n",
       "      <th>std</th>\n",
       "      <td>6355.721329</td>\n",
       "      <td>0.000678</td>\n",
       "      <td>8473.812661</td>\n",
       "      <td>66220.740659</td>\n",
       "      <td>278.834213</td>\n",
       "      <td>0.049721</td>\n",
       "    </tr>\n",
       "    <tr>\n",
       "      <th>min</th>\n",
       "      <td>3312.000000</td>\n",
       "      <td>0.001513</td>\n",
       "      <td>51198.060000</td>\n",
       "      <td>113925.000000</td>\n",
       "      <td>793.420000</td>\n",
       "      <td>0.220000</td>\n",
       "    </tr>\n",
       "    <tr>\n",
       "      <th>25%</th>\n",
       "      <td>10355.000000</td>\n",
       "      <td>0.001840</td>\n",
       "      <td>54320.795000</td>\n",
       "      <td>192750.000000</td>\n",
       "      <td>1321.337500</td>\n",
       "      <td>0.280000</td>\n",
       "    </tr>\n",
       "    <tr>\n",
       "      <th>50%</th>\n",
       "      <td>11298.500000</td>\n",
       "      <td>0.002507</td>\n",
       "      <td>64535.560000</td>\n",
       "      <td>207822.585000</td>\n",
       "      <td>1374.815000</td>\n",
       "      <td>0.290000</td>\n",
       "    </tr>\n",
       "    <tr>\n",
       "      <th>75%</th>\n",
       "      <td>17633.250000</td>\n",
       "      <td>0.002970</td>\n",
       "      <td>67231.177500</td>\n",
       "      <td>221635.620000</td>\n",
       "      <td>1496.085000</td>\n",
       "      <td>0.307500</td>\n",
       "    </tr>\n",
       "    <tr>\n",
       "      <th>max</th>\n",
       "      <td>22348.000000</td>\n",
       "      <td>0.003228</td>\n",
       "      <td>76407.820000</td>\n",
       "      <td>376341.100000</td>\n",
       "      <td>1800.050000</td>\n",
       "      <td>0.410000</td>\n",
       "    </tr>\n",
       "  </tbody>\n",
       "</table>\n",
       "</div>"
      ],
      "text/plain": [
       "          Total PIT  homeless_pop_percentage  median_household_income 2017  \\\n",
       "count     10.000000                10.000000                     10.000000   \n",
       "mean   12822.500000                 0.002418                  62004.550000   \n",
       "std     6355.721329                 0.000678                   8473.812661   \n",
       "min     3312.000000                 0.001513                  51198.060000   \n",
       "25%    10355.000000                 0.001840                  54320.795000   \n",
       "50%    11298.500000                 0.002507                  64535.560000   \n",
       "75%    17633.250000                 0.002970                  67231.177500   \n",
       "max    22348.000000                 0.003228                  76407.820000   \n",
       "\n",
       "       housing_cost 2017  rental_cost 2017  rent_to_income_ratio 2017  \n",
       "count          10.000000         10.000000                  10.000000  \n",
       "mean       216957.998000       1386.918000                   0.295000  \n",
       "std         66220.740659        278.834213                   0.049721  \n",
       "min        113925.000000        793.420000                   0.220000  \n",
       "25%        192750.000000       1321.337500                   0.280000  \n",
       "50%        207822.585000       1374.815000                   0.290000  \n",
       "75%        221635.620000       1496.085000                   0.307500  \n",
       "max        376341.100000       1800.050000                   0.410000  "
      ]
     },
     "execution_count": 71,
     "metadata": {},
     "output_type": "execute_result"
    }
   ],
   "source": [
    "df_low[[\"Total PIT\",\"homeless_pop_percentage\",\"median_household_income 2017\",\"housing_cost 2017\",\"rental_cost 2017\",\"rent_to_income_ratio 2017\"]].describe()"
   ]
  },
  {
   "cell_type": "code",
   "execution_count": 84,
   "metadata": {
    "scrolled": true
   },
   "outputs": [
    {
     "data": {
      "text/html": [
       "<div>\n",
       "<style scoped>\n",
       "    .dataframe tbody tr th:only-of-type {\n",
       "        vertical-align: middle;\n",
       "    }\n",
       "\n",
       "    .dataframe tbody tr th {\n",
       "        vertical-align: top;\n",
       "    }\n",
       "\n",
       "    .dataframe thead th {\n",
       "        text-align: right;\n",
       "    }\n",
       "</style>\n",
       "<table border=\"1\" class=\"dataframe\">\n",
       "  <thead>\n",
       "    <tr style=\"text-align: right;\">\n",
       "      <th></th>\n",
       "      <th>Total PIT</th>\n",
       "      <th>homeless_pop_percentage</th>\n",
       "      <th>median_household_income 2017</th>\n",
       "      <th>housing_cost 2017</th>\n",
       "      <th>rental_cost 2017</th>\n",
       "      <th>rent_to_income_ratio 2017</th>\n",
       "    </tr>\n",
       "  </thead>\n",
       "  <tbody>\n",
       "    <tr>\n",
       "      <th>count</th>\n",
       "      <td>10.00000</td>\n",
       "      <td>10.000000</td>\n",
       "      <td>10.000000</td>\n",
       "      <td>10.000000</td>\n",
       "      <td>10.000000</td>\n",
       "      <td>10.000000</td>\n",
       "    </tr>\n",
       "    <tr>\n",
       "      <th>mean</th>\n",
       "      <td>46855.30000</td>\n",
       "      <td>0.005149</td>\n",
       "      <td>76772.749000</td>\n",
       "      <td>402775.593000</td>\n",
       "      <td>1891.264000</td>\n",
       "      <td>0.319000</td>\n",
       "    </tr>\n",
       "    <tr>\n",
       "      <th>std</th>\n",
       "      <td>41027.44687</td>\n",
       "      <td>0.000903</td>\n",
       "      <td>12364.302959</td>\n",
       "      <td>191201.405097</td>\n",
       "      <td>529.278392</td>\n",
       "      <td>0.062084</td>\n",
       "    </tr>\n",
       "    <tr>\n",
       "      <th>min</th>\n",
       "      <td>10975.00000</td>\n",
       "      <td>0.004111</td>\n",
       "      <td>58232.840000</td>\n",
       "      <td>144720.470000</td>\n",
       "      <td>1154.340000</td>\n",
       "      <td>0.240000</td>\n",
       "    </tr>\n",
       "    <tr>\n",
       "      <th>25%</th>\n",
       "      <td>19037.25000</td>\n",
       "      <td>0.004351</td>\n",
       "      <td>68990.852500</td>\n",
       "      <td>340912.092500</td>\n",
       "      <td>1626.977500</td>\n",
       "      <td>0.272500</td>\n",
       "    </tr>\n",
       "    <tr>\n",
       "      <th>50%</th>\n",
       "      <td>33488.50000</td>\n",
       "      <td>0.004963</td>\n",
       "      <td>75262.890000</td>\n",
       "      <td>369033.255000</td>\n",
       "      <td>1816.925000</td>\n",
       "      <td>0.310000</td>\n",
       "    </tr>\n",
       "    <tr>\n",
       "      <th>75%</th>\n",
       "      <td>52651.50000</td>\n",
       "      <td>0.005808</td>\n",
       "      <td>80083.570000</td>\n",
       "      <td>411868.520000</td>\n",
       "      <td>2082.022500</td>\n",
       "      <td>0.357500</td>\n",
       "    </tr>\n",
       "    <tr>\n",
       "      <th>max</th>\n",
       "      <td>138592.00000</td>\n",
       "      <td>0.006566</td>\n",
       "      <td>101798.820000</td>\n",
       "      <td>860125.810000</td>\n",
       "      <td>3029.770000</td>\n",
       "      <td>0.430000</td>\n",
       "    </tr>\n",
       "  </tbody>\n",
       "</table>\n",
       "</div>"
      ],
      "text/plain": [
       "          Total PIT  homeless_pop_percentage  median_household_income 2017  \\\n",
       "count      10.00000                10.000000                     10.000000   \n",
       "mean    46855.30000                 0.005149                  76772.749000   \n",
       "std     41027.44687                 0.000903                  12364.302959   \n",
       "min     10975.00000                 0.004111                  58232.840000   \n",
       "25%     19037.25000                 0.004351                  68990.852500   \n",
       "50%     33488.50000                 0.004963                  75262.890000   \n",
       "75%     52651.50000                 0.005808                  80083.570000   \n",
       "max    138592.00000                 0.006566                 101798.820000   \n",
       "\n",
       "       housing_cost 2017  rental_cost 2017  rent_to_income_ratio 2017  \n",
       "count          10.000000         10.000000                  10.000000  \n",
       "mean       402775.593000       1891.264000                   0.319000  \n",
       "std        191201.405097        529.278392                   0.062084  \n",
       "min        144720.470000       1154.340000                   0.240000  \n",
       "25%        340912.092500       1626.977500                   0.272500  \n",
       "50%        369033.255000       1816.925000                   0.310000  \n",
       "75%        411868.520000       2082.022500                   0.357500  \n",
       "max        860125.810000       3029.770000                   0.430000  "
      ]
     },
     "execution_count": 84,
     "metadata": {},
     "output_type": "execute_result"
    }
   ],
   "source": [
    "df_high[[\"Total PIT\",\"homeless_pop_percentage\",\"median_household_income 2017\",\"housing_cost 2017\",\"rental_cost 2017\",\"rent_to_income_ratio 2017\"]].describe()"
   ]
  },
  {
   "cell_type": "markdown",
   "metadata": {},
   "source": [
    "Below we can see that the areas of high homelessness have notably higher results for all of the varibles we care about (all values have been scaled so that they can be directly compared in magnitude). Note: I think all the variables except \"overcrowded\" are self explainatory. Overcrowded was created by using ACS data for rental units that have an average of 1.5 people or more per room divided by the total rental housing stock of a CSA. "
   ]
  },
  {
   "cell_type": "code",
   "execution_count": 101,
   "metadata": {
    "scrolled": true
   },
   "outputs": [
    {
     "data": {
      "image/png": "[encoded data removed]",
      "text/plain": [
       "<Figure size 1440x360 with 1 Axes>"
      ]
     },
     "metadata": {},
     "output_type": "display_data"
    }
   ],
   "source": [
    "df = pd.read_csv('minor_augmented_final_CSA_data.csv').drop(['Unnamed: 0', 'Unnamed: 0.1'], axis=1)\n",
    "scaled_df = pd.DataFrame(scaler.fit_transform(df.drop(['CSA', 'split'], axis=1)), \n",
    "             columns=df.drop(['CSA', 'split'], axis=1).columns)\n",
    "             \n",
    "df[scaled_df.columns] = scaled_df\n",
    "cols2keep = ['housing_cost 2017', \n",
    "             'rental_cost 2017',\n",
    "            'median_household_income 2017',\n",
    "            'total_renter_occupied',\n",
    "\n",
    "            'Workforce_Participation_Rate',\n",
    "            'overcrowded']\n",
    "plt.figure(figsize=(20,5))\n",
    "g = sns.barplot(x='variable', y='value', hue='split', \n",
    "            data=df[cols2keep+['split','CSA']].melt(id_vars=['split', 'CSA']))"
   ]
  },
  {
   "cell_type": "markdown",
   "metadata": {},
   "source": [
    "Before getting into regression outputs below, here can see there there is definitely a positive relationship between the ratio of rental costs to income to the total pit count figure. "
   ]
  },
  {
   "cell_type": "code",
   "execution_count": 5,
   "metadata": {},
   "outputs": [
    {
     "data": {
      "image/png": "[encoded data removed]",
      "text/plain": [
       "<Figure size 432x288 with 1 Axes>"
      ]
     },
     "metadata": {
      "needs_background": "light"
     },
     "output_type": "display_data"
    }
   ],
   "source": [
    "ax = sns.regplot(x='rent_to_income_ratio 2017', y=\"Total PIT\", data=df)"
   ]
  },
  {
   "cell_type": "markdown",
   "metadata": {},
   "source": [
    "Below we can see that as the median household income increase, there is an associated rise \n",
    "in the percentage of the population experiencing homelessness. "
   ]
  },
  {
   "cell_type": "code",
   "execution_count": 94,
   "metadata": {},
   "outputs": [
    {
     "data": {
      "image/png": "[encoded data removed]",
      "text/plain": [
       "<Figure size 432x288 with 1 Axes>"
      ]
     },
     "metadata": {},
     "output_type": "display_data"
    }
   ],
   "source": [
    "ax = sns.regplot(x='median_household_income 2017', y=\"homeless_pop_percentage\", data=df)"
   ]
  },
  {
   "cell_type": "markdown",
   "metadata": {},
   "source": [
    "We can see that in this simple model each $20 increase in housing costs is related to one more person experiencing homelessness. Below we see basically the exact same relationship between rental costs and one more person experiencing homelessness. Housing and rental costs are both statistically significant. "
   ]
  },
  {
   "cell_type": "code",
   "execution_count": 86,
   "metadata": {},
   "outputs": [
    {
     "data": {
      "text/html": [
       "<table class=\"simpletable\">\n",
       "<caption>OLS Regression Results</caption>\n",
       "<tr>\n",
       "  <th>Dep. Variable:</th>    <td>Total Homeless PIT</td> <th>  R-squared:         </th> <td>   0.512</td>\n",
       "</tr>\n",
       "<tr>\n",
       "  <th>Model:</th>                    <td>OLS</td>        <th>  Adj. R-squared:    </th> <td>   0.487</td>\n",
       "</tr>\n",
       "<tr>\n",
       "  <th>Method:</th>              <td>Least Squares</td>   <th>  F-statistic:       </th> <td>   19.97</td>\n",
       "</tr>\n",
       "<tr>\n",
       "  <th>Date:</th>              <td>Fri, 30 Aug 2019</td>  <th>  Prob (F-statistic):</th> <td>0.000263</td>\n",
       "</tr>\n",
       "<tr>\n",
       "  <th>Time:</th>                  <td>16:16:45</td>      <th>  Log-Likelihood:    </th> <td> -225.86</td>\n",
       "</tr>\n",
       "<tr>\n",
       "  <th>No. Observations:</th>       <td>    20</td>       <th>  AIC:               </th> <td>   453.7</td>\n",
       "</tr>\n",
       "<tr>\n",
       "  <th>Df Residuals:</th>           <td>    19</td>       <th>  BIC:               </th> <td>   454.7</td>\n",
       "</tr>\n",
       "<tr>\n",
       "  <th>Df Model:</th>               <td>     1</td>       <th>                     </th>     <td> </td>   \n",
       "</tr>\n",
       "<tr>\n",
       "  <th>Covariance Type:</th>       <td>nonrobust</td>     <th>                     </th>     <td> </td>   \n",
       "</tr>\n",
       "</table>\n",
       "<table class=\"simpletable\">\n",
       "<tr>\n",
       "          <td></td>             <th>coef</th>     <th>std err</th>      <th>t</th>      <th>P>|t|</th>  <th>[0.025</th>    <th>0.975]</th>  \n",
       "</tr>\n",
       "<tr>\n",
       "  <th>housing_cost 2017</th> <td>    0.0568</td> <td>    0.013</td> <td>    4.469</td> <td> 0.000</td> <td>    0.030</td> <td>    0.083</td>\n",
       "</tr>\n",
       "</table>\n",
       "<table class=\"simpletable\">\n",
       "<tr>\n",
       "  <th>Omnibus:</th>       <td>33.837</td> <th>  Durbin-Watson:     </th> <td>   2.198</td>\n",
       "</tr>\n",
       "<tr>\n",
       "  <th>Prob(Omnibus):</th> <td> 0.000</td> <th>  Jarque-Bera (JB):  </th> <td>  71.549</td>\n",
       "</tr>\n",
       "<tr>\n",
       "  <th>Skew:</th>          <td> 2.842</td> <th>  Prob(JB):          </th> <td>2.91e-16</td>\n",
       "</tr>\n",
       "<tr>\n",
       "  <th>Kurtosis:</th>      <td>10.319</td> <th>  Cond. No.          </th> <td>    1.00</td>\n",
       "</tr>\n",
       "</table><br/><br/>Warnings:<br/>[1] Standard Errors assume that the covariance matrix of the errors is correctly specified."
      ],
      "text/plain": [
       "<class 'statsmodels.iolib.summary.Summary'>\n",
       "\"\"\"\n",
       "                            OLS Regression Results                            \n",
       "==============================================================================\n",
       "Dep. Variable:     Total Homeless PIT   R-squared:                       0.512\n",
       "Model:                            OLS   Adj. R-squared:                  0.487\n",
       "Method:                 Least Squares   F-statistic:                     19.97\n",
       "Date:                Fri, 30 Aug 2019   Prob (F-statistic):           0.000263\n",
       "Time:                        16:16:45   Log-Likelihood:                -225.86\n",
       "No. Observations:                  20   AIC:                             453.7\n",
       "Df Residuals:                      19   BIC:                             454.7\n",
       "Df Model:                           1                                         \n",
       "Covariance Type:            nonrobust                                         \n",
       "=====================================================================================\n",
       "                        coef    std err          t      P>|t|      [0.025      0.975]\n",
       "-------------------------------------------------------------------------------------\n",
       "housing_cost 2017     0.0568      0.013      4.469      0.000       0.030       0.083\n",
       "==============================================================================\n",
       "Omnibus:                       33.837   Durbin-Watson:                   2.198\n",
       "Prob(Omnibus):                  0.000   Jarque-Bera (JB):               71.549\n",
       "Skew:                           2.842   Prob(JB):                     2.91e-16\n",
       "Kurtosis:                      10.319   Cond. No.                         1.00\n",
       "==============================================================================\n",
       "\n",
       "Warnings:\n",
       "[1] Standard Errors assume that the covariance matrix of the errors is correctly specified.\n",
       "\"\"\""
      ]
     },
     "execution_count": 86,
     "metadata": {},
     "output_type": "execute_result"
    }
   ],
   "source": [
    "y = df['Total Homeless PIT']\n",
    "X = df[\"housing_cost 2017\"]\n",
    "\n",
    "model = sm.OLS(y, X).fit()\n",
    "predictions = model.predict(X) \n",
    "\n",
    "\n",
    "model.summary()"
   ]
  },
  {
   "cell_type": "code",
   "execution_count": 28,
   "metadata": {},
   "outputs": [
    {
     "data": {
      "text/html": [
       "<table class=\"simpletable\">\n",
       "<caption>OLS Regression Results</caption>\n",
       "<tr>\n",
       "  <th>Dep. Variable:</th>    <td>Total Homeless PIT</td> <th>  R-squared:         </th> <td>   0.541</td>\n",
       "</tr>\n",
       "<tr>\n",
       "  <th>Model:</th>                    <td>OLS</td>        <th>  Adj. R-squared:    </th> <td>   0.517</td>\n",
       "</tr>\n",
       "<tr>\n",
       "  <th>Method:</th>              <td>Least Squares</td>   <th>  F-statistic:       </th> <td>   22.40</td>\n",
       "</tr>\n",
       "<tr>\n",
       "  <th>Date:</th>              <td>Fri, 30 Aug 2019</td>  <th>  Prob (F-statistic):</th> <td>0.000145</td>\n",
       "</tr>\n",
       "<tr>\n",
       "  <th>Time:</th>                  <td>15:56:00</td>      <th>  Log-Likelihood:    </th> <td>  3.8506</td>\n",
       "</tr>\n",
       "<tr>\n",
       "  <th>No. Observations:</th>       <td>    20</td>       <th>  AIC:               </th> <td>  -5.701</td>\n",
       "</tr>\n",
       "<tr>\n",
       "  <th>Df Residuals:</th>           <td>    19</td>       <th>  BIC:               </th> <td>  -4.706</td>\n",
       "</tr>\n",
       "<tr>\n",
       "  <th>Df Model:</th>               <td>     1</td>       <th>                     </th>     <td> </td>   \n",
       "</tr>\n",
       "<tr>\n",
       "  <th>Covariance Type:</th>       <td>nonrobust</td>     <th>                     </th>     <td> </td>   \n",
       "</tr>\n",
       "</table>\n",
       "<table class=\"simpletable\">\n",
       "<tr>\n",
       "          <td></td>            <th>coef</th>     <th>std err</th>      <th>t</th>      <th>P>|t|</th>  <th>[0.025</th>    <th>0.975]</th>  \n",
       "</tr>\n",
       "<tr>\n",
       "  <th>rental_cost 2017</th> <td>    0.5000</td> <td>    0.106</td> <td>    4.733</td> <td> 0.000</td> <td>    0.279</td> <td>    0.721</td>\n",
       "</tr>\n",
       "</table>\n",
       "<table class=\"simpletable\">\n",
       "<tr>\n",
       "  <th>Omnibus:</th>       <td>33.831</td> <th>  Durbin-Watson:     </th> <td>   2.259</td>\n",
       "</tr>\n",
       "<tr>\n",
       "  <th>Prob(Omnibus):</th> <td> 0.000</td> <th>  Jarque-Bera (JB):  </th> <td>  70.717</td>\n",
       "</tr>\n",
       "<tr>\n",
       "  <th>Skew:</th>          <td> 2.856</td> <th>  Prob(JB):          </th> <td>4.41e-16</td>\n",
       "</tr>\n",
       "<tr>\n",
       "  <th>Kurtosis:</th>      <td>10.227</td> <th>  Cond. No.          </th> <td>    1.00</td>\n",
       "</tr>\n",
       "</table><br/><br/>Warnings:<br/>[1] Standard Errors assume that the covariance matrix of the errors is correctly specified."
      ],
      "text/plain": [
       "<class 'statsmodels.iolib.summary.Summary'>\n",
       "\"\"\"\n",
       "                            OLS Regression Results                            \n",
       "==============================================================================\n",
       "Dep. Variable:     Total Homeless PIT   R-squared:                       0.541\n",
       "Model:                            OLS   Adj. R-squared:                  0.517\n",
       "Method:                 Least Squares   F-statistic:                     22.40\n",
       "Date:                Fri, 30 Aug 2019   Prob (F-statistic):           0.000145\n",
       "Time:                        15:56:00   Log-Likelihood:                 3.8506\n",
       "No. Observations:                  20   AIC:                            -5.701\n",
       "Df Residuals:                      19   BIC:                            -4.706\n",
       "Df Model:                           1                                         \n",
       "Covariance Type:            nonrobust                                         \n",
       "====================================================================================\n",
       "                       coef    std err          t      P>|t|      [0.025      0.975]\n",
       "------------------------------------------------------------------------------------\n",
       "rental_cost 2017     0.5000      0.106      4.733      0.000       0.279       0.721\n",
       "==============================================================================\n",
       "Omnibus:                       33.831   Durbin-Watson:                   2.259\n",
       "Prob(Omnibus):                  0.000   Jarque-Bera (JB):               70.717\n",
       "Skew:                           2.856   Prob(JB):                     4.41e-16\n",
       "Kurtosis:                      10.227   Cond. No.                         1.00\n",
       "==============================================================================\n",
       "\n",
       "Warnings:\n",
       "[1] Standard Errors assume that the covariance matrix of the errors is correctly specified.\n",
       "\"\"\""
      ]
     },
     "execution_count": 28,
     "metadata": {},
     "output_type": "execute_result"
    }
   ],
   "source": [
    "y = df['Total Homeless PIT']\n",
    "X = df[\"rental_cost 2017\"]\n",
    "\n",
    "model = sm.OLS(y, X).fit()\n",
    "predictions = model.predict(X) # make the predictions by the model\n",
    "\n",
    "# Print out the statistics\n",
    "model.summary()\n",
    "\n"
   ]
  }
 ],
 "metadata": {
  "kernelspec": {
   "display_name": "Python 3",
   "language": "python",
   "name": "python3"
  },
  "language_info": {
   "codemirror_mode": {
    "name": "ipython",
    "version": 3
   },
   "file_extension": ".py",
   "mimetype": "text/x-python",
   "name": "python",
   "nbconvert_exporter": "python",
   "pygments_lexer": "ipython3",
   "version": "3.7.2"
  }
 },
 "nbformat": 4,
 "nbformat_minor": 2
}
